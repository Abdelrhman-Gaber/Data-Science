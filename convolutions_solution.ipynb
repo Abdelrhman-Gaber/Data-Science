{
 "cells": [
  {
   "cell_type": "markdown",
   "metadata": {},
   "source": [
    "# Convolutions Pair Solution"
   ]
  },
  {
   "cell_type": "markdown",
   "metadata": {},
   "source": [
    "### Part One"
   ]
  },
  {
   "cell_type": "markdown",
   "metadata": {},
   "source": [
    "1) Write a simple function that takes two matrices of equal dimensions (a target and a filter), multiplies together their entries element by element, then sums across all the results. You can think of this as a sort of 2-dimensional dot product.\n",
    "\n",
    "For example, with these matrices: you should get 8 when running your function with the below: $1 * 1 + 0 * 0 + 2 * 1 + 2 * 0 ...$\n",
    "\n",
    "```\n",
    "mat = np.array([[1,0,2],\n",
    "                [2,1,1],\n",
    "                [1,1,3]])\n",
    "\n",
    "filt = np.array([[1,0,1],\n",
    "                 [0,1,0],\n",
    "                 [1,0,1]])\n",
    "```"
   ]
  },
  {
   "cell_type": "code",
   "execution_count": 1,
   "metadata": {},
   "outputs": [],
   "source": [
    "import numpy as np\n",
    "\n",
    "mat = np.array([[1,0,2],\n",
    "                [2,1,1],\n",
    "                [1,1,3]])\n",
    "\n",
    "filt = np.array([[1,0,1],\n",
    "                 [0,1,0],\n",
    "                 [1,0,1]])"
   ]
  },
  {
   "cell_type": "code",
   "execution_count": 2,
   "metadata": {},
   "outputs": [],
   "source": [
    "def apply_filter(matrix, filt):\n",
    "    assert matrix.shape == filt.shape\n",
    "    return np.sum(matrix * filt)"
   ]
  },
  {
   "cell_type": "code",
   "execution_count": 3,
   "metadata": {},
   "outputs": [
    {
     "data": {
      "text/plain": [
       "array([[1, 0, 2],\n",
       "       [0, 1, 0],\n",
       "       [1, 0, 3]])"
      ]
     },
     "execution_count": 3,
     "metadata": {},
     "output_type": "execute_result"
    }
   ],
   "source": [
    "mat * filt       #Note the asterisk does entry-wise multiplication"
   ]
  },
  {
   "cell_type": "code",
   "execution_count": 4,
   "metadata": {},
   "outputs": [
    {
     "data": {
      "text/plain": [
       "8"
      ]
     },
     "execution_count": 4,
     "metadata": {},
     "output_type": "execute_result"
    }
   ],
   "source": [
    "apply_filter(mat, filt)"
   ]
  },
  {
   "cell_type": "markdown",
   "metadata": {},
   "source": [
    "### Part Two"
   ]
  },
  {
   "cell_type": "markdown",
   "metadata": {},
   "source": [
    "2) Now write a function that utilizes the first as follows: assume the filter matrix has odd dimensions hence has a center (e.g. 3x3). Starting from the top left corner of the target matrix and moving right then down, find all entries that can be aligned with the center of the filter matrix such that you can call the function you just wrote (i.e. you can fit the filter into that part of the matrix). \n",
    "\n",
    "As you find valid centers, call your function on the corresponding subsection and store the results in a 2-dim array (matrix). The dimensions are given by the number of total steps you can validly take horizontally and vertically.\n",
    "\n",
    "So for example, with a 4x5 target matrix and a 3x3 filter, the output dimensions will be 2x3.\n",
    "\n",
    "You should get \n",
    "$$\\begin{bmatrix}\n",
    "5& 2 & 13 \\\\\n",
    "4 & 4 & 2\n",
    "\\end{bmatrix}$$\n",
    "\n",
    "when running this new function with the below. The valid centers are the entries at (1,1), (1,2), (1,3), (2,1), ... \n",
    "$$\n",
    "\\begin{align*}\n",
    "1\\cdot1 + 1\\cdot 1 + 3\\cdot1 &= 5\\\\\n",
    "0\\cdot1 + 1\\cdot1 + 1\\cdot1 &=2 \\\\\n",
    "2\\cdot1 + 4\\cdot1 + 7\\cdot1 &=13 \\\\\n",
    "2\\cdot1 + 1\\cdot1 + 1\\cdot1 &= 4\n",
    "\\end{align*}\n",
    "$$\n",
    "\n",
    "\n",
    "```\n",
    "mat = np.array([[1,0,2,3,3],\n",
    "                [2,1,1,4,1],\n",
    "                [1,1,3,1,7],\n",
    "                [1,1,1,0,0]])\n",
    "\n",
    "filt = np.array([[1,0,0],\n",
    "                 [0,1,0],\n",
    "                 [0,0,1]])\n",
    "```\n",
    "\n",
    "This is a convolution!"
   ]
  },
  {
   "cell_type": "code",
   "execution_count": null,
   "metadata": {},
   "outputs": [],
   "source": [
    "mat2 = np.array([[1,0,2,3,3],\n",
    "                 [2,1,1,4,1],\n",
    "                 [1,1,3,1,7],\n",
    "                 [1,1,1,0,0]])\n",
    "\n",
    "filt2 = np.array([[1,0,0],\n",
    "                  [0,1,0],\n",
    "                  [0,0,1]])"
   ]
  },
  {
   "cell_type": "code",
   "execution_count": null,
   "metadata": {},
   "outputs": [],
   "source": [
    "def convolve(mat, filt):\n",
    "    \n",
    "    filt_height, filt_width = filt.shape[0], filt.shape[1]\n",
    "    output_shape = (mat.shape[0] - filt_height + 1,\n",
    "                    mat.shape[1] - filt_width + 1)\n",
    "    output = np.zeros(output_shape)\n",
    "    \n",
    "    for i in range(output.shape[0]):\n",
    "        for j in range(output.shape[1]):\n",
    "            \n",
    "            tgt_mat = mat[i:i+filt_height,j:j+filt_width]   \n",
    "            output[i,j] = apply_filter(tgt_mat,filt)\n",
    "    \n",
    "    return output            "
   ]
  },
  {
   "cell_type": "code",
   "execution_count": null,
   "metadata": {},
   "outputs": [],
   "source": [
    "convolve(mat2, filt2)"
   ]
  },
  {
   "cell_type": "code",
   "execution_count": null,
   "metadata": {},
   "outputs": [],
   "source": [
    "mat3 = np.array([[1,0,2,3,3,1,2,22],\n",
    "                 [2,1,1,4,1,1,0, 0],\n",
    "                 [1,1,3,1,7,3,3, 3],\n",
    "                 [1,1,1,0,0,1,7, 2]])\n",
    "\n",
    "filt3 = np.array([[1,0,0,1,1],\n",
    "                  [0,1,0,1,0],\n",
    "                  [0,0,1,1,2]])\n",
    "\n",
    "filt4 = np.array([[1,0,0,1],\n",
    "                  [0,1,0,1],\n",
    "                  [0,0,1,1]])\n",
    "\n",
    "convolve(mat3,filt3)"
   ]
  },
  {
   "cell_type": "code",
   "execution_count": null,
   "metadata": {},
   "outputs": [],
   "source": []
  }
 ],
 "metadata": {
  "kernelspec": {
   "display_name": "Python [conda env:metis] *",
   "language": "python",
   "name": "conda-env-metis-py"
  },
  "language_info": {
   "codemirror_mode": {
    "name": "ipython",
    "version": 3
   },
   "file_extension": ".py",
   "mimetype": "text/x-python",
   "name": "python",
   "nbconvert_exporter": "python",
   "pygments_lexer": "ipython3",
   "version": "3.8.10"
  }
 },
 "nbformat": 4,
 "nbformat_minor": 2
}
